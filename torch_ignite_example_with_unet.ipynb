{
  "nbformat": 4,
  "nbformat_minor": 0,
  "metadata": {
    "colab": {
      "name": "torch-ignite example with unet.ipynb",
      "provenance": [],
      "collapsed_sections": [],
      "authorship_tag": "ABX9TyPa4wUw2ywU73yctJNcP4el",
      "include_colab_link": true
    },
    "kernelspec": {
      "name": "python3",
      "display_name": "Python 3"
    },
    "accelerator": "GPU"
  },
  "cells": [
    {
      "cell_type": "markdown",
      "metadata": {
        "id": "view-in-github",
        "colab_type": "text"
      },
      "source": [
        "<a href=\"https://colab.research.google.com/github/serereuk/torch_ignite_example/blob/master/torch_ignite_example_with_unet.ipynb\" target=\"_parent\"><img src=\"https://colab.research.google.com/assets/colab-badge.svg\" alt=\"Open In Colab\"/></a>"
      ]
    },
    {
      "cell_type": "markdown",
      "metadata": {
        "id": "pNQ6D0pJ7wx1",
        "colab_type": "text"
      },
      "source": [
        "# Google Drive mount\n",
        "\n",
        "오늘의 리빙포인트 \n",
        "\n",
        "*   구글 드라이브 친구의 동기화 주기는 1분에 300파일 정도인 것 같다.\n",
        "*   파일 개수가 너무 많으면 구글 드라이브에서 코랩으로 연동이 어렵다 ㅠㅠ \n",
        "*   파일 개수가 약 30000개일 경우에 분할압축 후 각 압축을 한 폴더로 각각 만들어서 데이터를 관리하면 된다\n",
        "*   토치 친구는 mse는 MSELoss면서 mae는 L1Loss로 해두었다.. 역시 통일성이 없는 친구다\n",
        "\n"
      ]
    },
    {
      "cell_type": "code",
      "metadata": {
        "id": "ENJ4itR5m5AP",
        "colab_type": "code",
        "colab": {
          "base_uri": "https://localhost:8080/",
          "height": 34
        },
        "outputId": "db9edde5-5925-4b40-c70a-88f9e6febaca"
      },
      "source": [
        "from google.colab import drive\n",
        "drive.mount('/gdrive')"
      ],
      "execution_count": 1,
      "outputs": [
        {
          "output_type": "stream",
          "text": [
            "Drive already mounted at /gdrive; to attempt to forcibly remount, call drive.mount(\"/gdrive\", force_remount=True).\n"
          ],
          "name": "stdout"
        }
      ]
    },
    {
      "cell_type": "markdown",
      "metadata": {
        "id": "kIIrpHRQdKhK",
        "colab_type": "text"
      },
      "source": [
        "# Train Validation set 분리하기"
      ]
    },
    {
      "cell_type": "code",
      "metadata": {
        "id": "TF8OXc29dG2n",
        "colab_type": "code",
        "colab": {
          "base_uri": "https://localhost:8080/",
          "height": 85
        },
        "outputId": "aff37c8c-5d2c-496c-96e3-858629e9f075"
      },
      "source": [
        "import numpy as np\n",
        "image_path = np.load('/gdrive/My Drive/dacon_rain/meta.npy')\n",
        "print(image_path[:4])"
      ],
      "execution_count": 3,
      "outputs": [
        {
          "output_type": "stream",
          "text": [
            "['/gdrive/My Drive/dacon_rain/dacon_rain/zip1000.zip/content/train/subset_010479_06.npy'\n",
            " '/gdrive/My Drive/dacon_rain/dacon_rain/zip1000.zip/content/train/subset_010480_01.npy'\n",
            " '/gdrive/My Drive/dacon_rain/dacon_rain/zip1000.zip/content/train/subset_010493_04.npy'\n",
            " '/gdrive/My Drive/dacon_rain/dacon_rain/zip1000.zip/content/train/subset_010486_04.npy']\n"
          ],
          "name": "stdout"
        }
      ]
    },
    {
      "cell_type": "code",
      "metadata": {
        "id": "8apKN8OZdTXM",
        "colab_type": "code",
        "colab": {
          "base_uri": "https://localhost:8080/",
          "height": 34
        },
        "outputId": "43b9e9b7-3faa-4089-f21b-8c43a876e47e"
      },
      "source": [
        "from sklearn.model_selection import train_test_split\n",
        "train, test = train_test_split(image_path, test_size=0.05, random_state=419)\n",
        "print('train set length {} and validation set length {}'.format(len(train), len(test)))"
      ],
      "execution_count": 9,
      "outputs": [
        {
          "output_type": "stream",
          "text": [
            "train set length 72527 and validation set length 3818\n"
          ],
          "name": "stdout"
        }
      ]
    },
    {
      "cell_type": "markdown",
      "metadata": {
        "id": "_z26qd3ZeG6m",
        "colab_type": "text"
      },
      "source": [
        "# 데이터셋 폴더 경로 다시 저장하기"
      ]
    },
    {
      "cell_type": "code",
      "metadata": {
        "id": "qfRv5Uh7eLUV",
        "colab_type": "code",
        "colab": {}
      },
      "source": [
        "np.save('/gdrive/My Drive/dacon_rain/train_path.npy', train)\n",
        "np.save('/gdrive/My Drive/dacon_rain/test_path.npy', test)"
      ],
      "execution_count": 0,
      "outputs": []
    },
    {
      "cell_type": "markdown",
      "metadata": {
        "id": "DUNI5_9bTHam",
        "colab_type": "text"
      },
      "source": [
        "# 이번 콘텐츠 : 토치 이그나이트 친구 알아보기 \n",
        "\n",
        "설치는 아래와 같이\n",
        "\n",
        "토치 이그나이트 친구는 기존에 열심히 쳐야했던 트레인, 평가 부분의 코드들을 간편하게 줄여주는 친구이다.  \n",
        "하지만 은근 어려운 거 같아서 사실 그냥 치고 말지라는 생각이 드는 패키지!  \n",
        "최근 다양한 코드에서 발견되는 것을 보아 요새 유행하는 듯? (필자의 사견)"
      ]
    },
    {
      "cell_type": "code",
      "metadata": {
        "id": "9XrofOi_JqDl",
        "colab_type": "code",
        "colab": {
          "base_uri": "https://localhost:8080/",
          "height": 51
        },
        "outputId": "7d87fe8b-2478-44f0-c450-f8c12c002c5c"
      },
      "source": [
        "!pip install pytorch-ignite"
      ],
      "execution_count": 2,
      "outputs": [
        {
          "output_type": "stream",
          "text": [
            "Requirement already satisfied: pytorch-ignite in /usr/local/lib/python3.6/dist-packages (0.3.0)\n",
            "Requirement already satisfied: torch in /usr/local/lib/python3.6/dist-packages (from pytorch-ignite) (1.4.0)\n"
          ],
          "name": "stdout"
        }
      ]
    },
    {
      "cell_type": "markdown",
      "metadata": {
        "id": "BwZo1qCUfdgn",
        "colab_type": "text"
      },
      "source": [
        "# import 할 친구들 모음"
      ]
    },
    {
      "cell_type": "code",
      "metadata": {
        "id": "2zVoJieyJiVg",
        "colab_type": "code",
        "colab": {}
      },
      "source": [
        "import torch \n",
        "import torch.nn as nn\n",
        "from torch import optim\n",
        "import torch.nn.functional as F\n",
        "from torchvision.transforms import Compose, ToTensor\n",
        "import numpy as np\n",
        "from torch.utils.data import DataLoader\n",
        "from torch.utils.data import Dataset\n",
        "from ignite.engine import Engine, Events\n",
        "from ignite.metrics import MeanAbsoluteError, Loss, RunningAverage"
      ],
      "execution_count": 0,
      "outputs": []
    },
    {
      "cell_type": "markdown",
      "metadata": {
        "id": "itui5Oc8fiBp",
        "colab_type": "text"
      },
      "source": [
        "# 데이터 로더 부분"
      ]
    },
    {
      "cell_type": "code",
      "metadata": {
        "id": "DH8MAGfdnCbu",
        "colab_type": "code",
        "colab": {}
      },
      "source": [
        "def loading(files):\n",
        "    dataset = np.load(files).astype(np.float32)\n",
        "    target = dataset[:,:,-1].reshape(1, 40, 40)\n",
        "    feature = dataset[:, :, :14]\n",
        "    return feature, target\n",
        "\n",
        "class Data(Dataset):\n",
        "\n",
        "    def __init__(self, txts, loader, transform=None):\n",
        "        self.image_file_path = np.load(txts).tolist()\n",
        "        self.loader = loader\n",
        "        self.transform = transform\n",
        "\n",
        "    def __len__(self):\n",
        "        return len(self.image_file_path)\n",
        "\n",
        "    def __getitem__(self, index):\n",
        "        images = self.image_file_path[index]\n",
        "        feature, target = self.loader(images)\n",
        "        if self.transform:\n",
        "            feature = self.transform(feature)\n",
        "        \n",
        "        return feature, target\n",
        "\n",
        "    "
      ],
      "execution_count": 0,
      "outputs": []
    },
    {
      "cell_type": "code",
      "metadata": {
        "id": "JAdIhQ_pr6_j",
        "colab_type": "code",
        "colab": {
          "base_uri": "https://localhost:8080/",
          "height": 85
        },
        "outputId": "9ffc5942-d964-40b8-9a08-0722e357b33b"
      },
      "source": [
        "transform_ = Compose([ToTensor()])\n",
        "trainset = Data('/gdrive/My Drive/dacon_rain/train_path.npy', loading, transform_)\n",
        "validset = Data('/gdrive/My Drive/dacon_rain/test_path.npy', loading, transform_)\n",
        "train_loader = DataLoader(trainset, batch_size=512, shuffle=True, num_workers=0, pin_memory=True)\n",
        "valid_loader = DataLoader(validset, batch_size=64, shuffle=False, num_workers=0, pin_memory=True)\n",
        "\n",
        "for i in range(len(trainset)):\n",
        "    x, y = trainset[i]\n",
        "    print(i, x.shape, y.shape)\n",
        "    if i == 3: \n",
        "        break"
      ],
      "execution_count": 55,
      "outputs": [
        {
          "output_type": "stream",
          "text": [
            "0 torch.Size([14, 40, 40]) (1, 40, 40)\n",
            "1 torch.Size([14, 40, 40]) (1, 40, 40)\n",
            "2 torch.Size([14, 40, 40]) (1, 40, 40)\n",
            "3 torch.Size([14, 40, 40]) (1, 40, 40)\n"
          ],
          "name": "stdout"
        }
      ]
    },
    {
      "cell_type": "markdown",
      "metadata": {
        "id": "OMYSw9Mhe87W",
        "colab_type": "text"
      },
      "source": [
        "# 단점\n",
        "\n",
        "속도가 느림 -> 효율적인 코딩 방법을 강구해야함\n",
        "\n",
        "원인 -> shuffle 하는 부분에서 느림?\n",
        "\n",
        "그것도 사실 아닌듯 ㅠㅠ"
      ]
    },
    {
      "cell_type": "code",
      "metadata": {
        "id": "DZu04PHssdkD",
        "colab_type": "code",
        "colab": {
          "base_uri": "https://localhost:8080/",
          "height": 51
        },
        "outputId": "035d6e8e-2c99-4631-de3e-524dadb6ae1a"
      },
      "source": [
        "%%time\n",
        "a, b = next(iter(train_loader))"
      ],
      "execution_count": 56,
      "outputs": [
        {
          "output_type": "stream",
          "text": [
            "CPU times: user 310 ms, sys: 147 ms, total: 457 ms\n",
            "Wall time: 2.31 s\n"
          ],
          "name": "stdout"
        }
      ]
    },
    {
      "cell_type": "code",
      "metadata": {
        "id": "6goCf2igfdAh",
        "colab_type": "code",
        "colab": {}
      },
      "source": [
        "device = torch.device(\"cuda\" if torch.cuda.is_available() else \"cpu\")"
      ],
      "execution_count": 0,
      "outputs": []
    },
    {
      "cell_type": "markdown",
      "metadata": {
        "id": "iZNg06BNfUHS",
        "colab_type": "text"
      },
      "source": [
        "# Unet 부품 만들기\n",
        "\n",
        "https://github.com/milesial/Pytorch-UNet\n",
        "\n",
        "위 친구를 많이많이 참고함\n",
        "\n"
      ]
    },
    {
      "cell_type": "code",
      "metadata": {
        "id": "d_O7kcBJ0J00",
        "colab_type": "code",
        "colab": {}
      },
      "source": [
        "class double(nn.Module):\n",
        "    def __init__(self, inc, outc, midc=None):\n",
        "        super(double, self).__init__()\n",
        "        if not midc:\n",
        "            midc = outc\n",
        "        self.doub = nn.Sequential(\n",
        "            nn.Conv2d(inc, midc, kernel_size=3, padding=1),\n",
        "            nn.BatchNorm2d(midc),\n",
        "            nn.ReLU(inplace=True),\n",
        "            nn.Conv2d(midc, outc, kernel_size=3, padding=1),\n",
        "            nn.BatchNorm2d(outc),\n",
        "            nn.ReLU(inplace=True)\n",
        "        )\n",
        "\n",
        "    def forward(self, x):\n",
        "        return self.doub(x)\n",
        "\n",
        "class down(nn.Module):\n",
        "    def __init__(self, inc, outc):\n",
        "        super(down, self).__init__()\n",
        "        self.maxpool = nn.Sequential(\n",
        "            nn.MaxPool2d(2),\n",
        "            double(inc, outc)\n",
        "        )\n",
        "\n",
        "    def forward(self, x):\n",
        "        return self.maxpool(x)\n",
        "\n",
        "class up(nn.Module):\n",
        "    def __init__(self, inc, outc, bilinear=True):\n",
        "        super(up, self).__init__()\n",
        "        if bilinear:\n",
        "            self.up = nn.Upsample(scale_factor=2, mode='bilinear', align_corners=True)\n",
        "            self.conv = double(inc, outc, inc // 2)\n",
        "        else:\n",
        "            self.up = nn.ConvTranspose2d(inc, inc//2, kernel_size=2, stride=2)\n",
        "            self.conv = double(inc, outc)\n",
        "\n",
        "    def forward(self, x1, x2):\n",
        "        x1 = self.up(x1)\n",
        "        diffY = torch.tensor([x2.size()[2] - x1.size()[2]])\n",
        "        diffX = torch.tensor([x2.size()[3] - x1.size()[3]])\n",
        "        x1 = F.pad(x1, [diffX // 2, diffX - diffX // 2, diffY //2, diffY - diffY // 2])\n",
        "        x = torch.cat([x2, x1], dim=1)\n",
        "        x = self.conv(x)\n",
        "        return x\n",
        "\n",
        "class out(nn.Module):\n",
        "    def __init__(self, inc, outc):\n",
        "        super(out, self).__init__()\n",
        "        self.conv = nn.Conv2d(inc, outc, kernel_size=1)\n",
        "\n",
        "    def forward(self, x):\n",
        "        return self.conv(x)\n"
      ],
      "execution_count": 0,
      "outputs": []
    },
    {
      "cell_type": "markdown",
      "metadata": {
        "id": "PV2lRfRR7Q_d",
        "colab_type": "text"
      },
      "source": [
        "# Unet 부품 조립하기"
      ]
    },
    {
      "cell_type": "code",
      "metadata": {
        "id": "zC7VXupJWC2R",
        "colab_type": "code",
        "colab": {}
      },
      "source": [
        "class unet(nn.Module):\n",
        "    def __init__(self, inc, outc, bilinear=True):\n",
        "        super(unet, self).__init__()\n",
        "        self.inc = inc\n",
        "        self.outc = outc\n",
        "        self.bilinear =bilinear\n",
        "        self.start = double(inc, 64)\n",
        "        self.down1 = down(64, 128)\n",
        "        self.down2 = down(128, 256)\n",
        "        factor = 2 if bilinear else 1\n",
        "        self.down3 = down(256, 512 // factor)\n",
        "        self.up1 = up(512, 256 // factor, self.bilinear)\n",
        "        self.up2 = up(256, 128 // factor, self.bilinear)\n",
        "        self.up3 = up(128, 64, self.bilinear)\n",
        "        self.out = out(64, outc)\n",
        "\n",
        "    def forward(self, x):\n",
        "        x1 = self.start(x)\n",
        "        x2 = self.down1(x1)\n",
        "        x3 = self.down2(x2)\n",
        "        x4 = self.down3(x3)\n",
        "        x = self.up1(x4, x3)\n",
        "        x = self.up2(x, x2)\n",
        "        x = self.up3(x, x1)\n",
        "        x = self.out(x)\n",
        "        return x\n",
        "    "
      ],
      "execution_count": 0,
      "outputs": []
    },
    {
      "cell_type": "code",
      "metadata": {
        "id": "W9del0955fb0",
        "colab_type": "code",
        "colab": {}
      },
      "source": [
        "model = unet(14, 1).to(device)\n",
        "optimizer = optim.Adam(model.parameters(), lr=1e-3)\n",
        "mae_loss = nn.L1Loss(reduction='sum')"
      ],
      "execution_count": 0,
      "outputs": []
    },
    {
      "cell_type": "code",
      "metadata": {
        "id": "6aYaEJWbG2YU",
        "colab_type": "code",
        "colab": {}
      },
      "source": [
        "def process_function(engine, batch):\n",
        "    model.train()\n",
        "    optimizer.zero_grad()\n",
        "    x, y = batch \n",
        "    x = x.to(device)\n",
        "    y = y.to(device)\n",
        "    pred = model(x)\n",
        "    loss =  mae_loss(pred, y)\n",
        "    loss.backward()\n",
        "    optimizer.step()\n",
        "    return loss.item()"
      ],
      "execution_count": 0,
      "outputs": []
    },
    {
      "cell_type": "code",
      "metadata": {
        "id": "FpfIQ2XfJ_qP",
        "colab_type": "code",
        "colab": {}
      },
      "source": [
        "def evaluate_function(engine, batch):\n",
        "    model.eval()\n",
        "    with torch.no_grad():\n",
        "        x, y = batch\n",
        "        x = x.to(device)\n",
        "        pred = model(x)\n",
        "        return pred, y"
      ],
      "execution_count": 0,
      "outputs": []
    },
    {
      "cell_type": "code",
      "metadata": {
        "id": "S4IjWu35KghJ",
        "colab_type": "code",
        "colab": {}
      },
      "source": [
        "trainer = Engine(process_function)\n",
        "evaluator = Engine(evaluate_function)\n",
        "training_history = {'loss': []}\n",
        "validation_history = {'loss': []}\n",
        "RunningAverage(output_transform=lambda x: x).attach(trainer, 'loss')\n",
        "MeanAbsoluteError(output_transform=lambda x: [x[0], x[1]]).attach(evaluator, 'loss')"
      ],
      "execution_count": 0,
      "outputs": []
    },
    {
      "cell_type": "code",
      "metadata": {
        "id": "XCMrzY_0K0qW",
        "colab_type": "code",
        "colab": {
          "base_uri": "https://localhost:8080/",
          "height": 34
        },
        "outputId": "62ddd0f6-f205-459c-8b1e-d22c62004cc9"
      },
      "source": [
        "@trainer.on(Events.EPOCH_COMPLETED)\n",
        "def print_trainer_logs(engine):\n",
        "    avg_loss = engine.state.metrics['loss']\n",
        "    print('Trainer Results - EPOCH {} - Avg Loss : {:2f}'.format(engine.state.epcoh, avg_loss))\n",
        "\n",
        "def print_logs(engine, dataloader, mode, history_dict):\n",
        "    evaluator.run(dataloader, max_epoch=1)\n",
        "    metrics = evaluator.state.metrics\n",
        "    avg_loss = metrics['loss']\n",
        "    print(\n",
        "        mode + 'Results - Epoch {} - Avg mae : {:f}'.format(engine.state.epoch, avg_loss)\n",
        "    )\n",
        "    for key in evaluator.state.metrics.keys(): history_dict[key].append(evaluator.state.metrics[key])\n",
        "\n",
        "trainer.add_event_handler(Events.EPOCH_COMPLETED, print_logs, train_loader, 'Training', training_history)\n",
        "trainer.add_event_handler(Events.EPOCH_COMPLETED, print_logs, valid_loader, 'Validation', validation_history)\n"
      ],
      "execution_count": 64,
      "outputs": [
        {
          "output_type": "execute_result",
          "data": {
            "text/plain": [
              "<ignite.engine.engine.RemovableEventHandle at 0x7fef41f7ef28>"
            ]
          },
          "metadata": {
            "tags": []
          },
          "execution_count": 64
        }
      ]
    },
    {
      "cell_type": "code",
      "metadata": {
        "id": "nVUwk5kMc4Dh",
        "colab_type": "code",
        "colab": {}
      },
      "source": [
        "e = trainer.run(train_loader, max_epochs=2)"
      ],
      "execution_count": 0,
      "outputs": []
    },
    {
      "cell_type": "code",
      "metadata": {
        "id": "njkQBiqKrSNP",
        "colab_type": "code",
        "colab": {
          "base_uri": "https://localhost:8080/",
          "height": 34
        },
        "outputId": "2b451d05-5cd1-4a26-eba6-d9ff64b565cf"
      },
      "source": [
        "training_history, validation_history"
      ],
      "execution_count": 51,
      "outputs": [
        {
          "output_type": "execute_result",
          "data": {
            "text/plain": [
              "({'loss': []}, {'loss': []})"
            ]
          },
          "metadata": {
            "tags": []
          },
          "execution_count": 51
        }
      ]
    },
    {
      "cell_type": "markdown",
      "metadata": {
        "id": "bHeAXxZk7ols",
        "colab_type": "text"
      },
      "source": [
        "# Dice Loss implementation\n",
        "\n",
        "![image.png](data:image/png;base64,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)"
      ]
    },
    {
      "cell_type": "code",
      "metadata": {
        "id": "LNbJmoJM7rjF",
        "colab_type": "code",
        "colab": {}
      },
      "source": [
        "import torch\n",
        "from torch.autograd import Function\n",
        "\n",
        "\n",
        "class DiceCoeff(Function):\n",
        "    \"\"\"Dice coeff for individual examples\"\"\"\n",
        "\n",
        "    def forward(self, input, target):\n",
        "        self.save_for_backward(input, target)\n",
        "        eps = 0.0001\n",
        "        self.inter = torch.dot(input.view(-1), target.view(-1))\n",
        "        self.union = torch.sum(input) + torch.sum(target) + eps\n",
        "\n",
        "        t = (2 * self.inter.float() + eps) / self.union.float()\n",
        "        return t\n",
        "\n",
        "    # This function has only a single output, so it gets only one gradient\n",
        "    def backward(self, grad_output):\n",
        "\n",
        "        input, target = self.saved_variables\n",
        "        grad_input = grad_target = None\n",
        "\n",
        "        if self.needs_input_grad[0]:\n",
        "            grad_input = grad_output * 2 * (target * self.union - self.inter) \\\n",
        "                         / (self.union * self.union)\n",
        "        if self.needs_input_grad[1]:\n",
        "            grad_target = None\n",
        "\n",
        "        return grad_input, grad_target\n",
        "\n",
        "\n",
        "def dice_coeff(input, target):\n",
        "    \"\"\"Dice coeff for batches\"\"\"\n",
        "    if input.is_cuda:\n",
        "        s = torch.FloatTensor(1).cuda().zero_()\n",
        "    else:\n",
        "        s = torch.FloatTensor(1).zero_()\n",
        "\n",
        "    for i, c in enumerate(zip(input, target)):\n",
        "        s = s + DiceCoeff().forward(c[0], c[1])\n",
        "\n",
        "    return s / (i + 1)"
      ],
      "execution_count": 0,
      "outputs": []
    }
  ]
}